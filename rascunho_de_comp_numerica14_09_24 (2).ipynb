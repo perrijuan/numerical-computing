{
  "nbformat": 4,
  "nbformat_minor": 0,
  "metadata": {
    "colab": {
      "provenance": []
    },
    "kernelspec": {
      "name": "python3",
      "display_name": "Python 3"
    },
    "language_info": {
      "name": "python"
    }
  },
  "cells": [
    {
      "cell_type": "markdown",
      "source": [
        "# RASCUNHOS\n",
        "\n",
        "trabalho 01 de computação numerica"
      ],
      "metadata": {
        "id": "mfyASRQ_fq7L"
      }
    },
    {
      "cell_type": "markdown",
      "source": [
        "soma compensada de kahan"
      ],
      "metadata": {
        "id": "lenfJ_rHf0Go"
      }
    },
    {
      "cell_type": "code",
      "execution_count": null,
      "metadata": {
        "colab": {
          "base_uri": "https://localhost:8080/"
        },
        "id": "_QHwTpBgfmGz",
        "outputId": "40958492-8238-4e70-9b2c-e7ed793756ec"
      },
      "outputs": [
        {
          "output_type": "stream",
          "name": "stdout",
          "text": [
            "10\n",
            "0.1\n",
            "0.9999999999999999\n"
          ]
        }
      ],
      "source": [
        "#um somatorio normal que vai gerar um erro de precisão\n",
        "\n",
        "def floaterro(n, tamanho):\n",
        "  soma=0\n",
        "  for y in range(tamanho):\n",
        "    soma=soma+n\n",
        "  return soma\n",
        "\n",
        "\n",
        "#erros de arredondamento temos perda de valores\n",
        "#numero de vezes que o valor vai ser somado\n",
        "entrada=int(input())\n",
        "#entrad com valores em float\n",
        "#usar como caso base o valor 0.1\n",
        "somatorio=float(input())\n",
        "print(floaterro(somatorio,entrada))\n"
      ]
    },
    {
      "cell_type": "markdown",
      "source": [
        "Algoritmo de soma compensada"
      ],
      "metadata": {
        "id": "BpSgCFiSiW0C"
      }
    },
    {
      "cell_type": "code",
      "source": [
        "def soma_kahan(n, valor):\n",
        "  soma=0.0\n",
        "  e=0.0\n",
        "\n",
        "  for i in range(n):\n",
        "\n",
        "      y = valor - e\n",
        "      t = soma + y\n",
        "      #o valor onde o erro fica armazenado\n",
        "      e = t - soma - y\n",
        "      soma = t\n",
        "\n",
        "  return soma\n",
        "\n",
        "#quantidade de vezes que sera somado\n",
        "n=int(input())\n",
        "#valor em ponto flutuante\n",
        "valor_float=float(input())\n",
        "#saida do codigo\n",
        "#\n",
        "print(soma_kahan(n,valor_float))"
      ],
      "metadata": {
        "colab": {
          "base_uri": "https://localhost:8080/"
        },
        "id": "QeyMwb0jiaIW",
        "outputId": "1e0b8132-b115-424b-8b42-0cbca4406c13"
      },
      "execution_count": null,
      "outputs": [
        {
          "output_type": "stream",
          "name": "stdout",
          "text": [
            "10\n",
            "0.1\n",
            "1.0\n"
          ]
        }
      ]
    },
    {
      "cell_type": "markdown",
      "source": [
        "Comparação de valores com e sem o \"metodo de kahan\""
      ],
      "metadata": {
        "id": "kh3NqpQowuPN"
      }
    },
    {
      "cell_type": "code",
      "source": [
        "\n",
        "def floaterro(n, tamanho):\n",
        "  soma=0\n",
        "  for _ in range(n):\n",
        "    soma+=tamanho\n",
        "  return soma\n",
        "\n",
        "\n",
        "def soma_kahan(n, valor):\n",
        "  soma=0.0\n",
        "  e=0.0\n",
        "\n",
        "  for _ in range(n):\n",
        "\n",
        "      y = valor - e\n",
        "      t = soma + y\n",
        "      #o valor onde o erro fica armazenado\n",
        "      e = t - soma - y\n",
        "      soma = t\n",
        "\n",
        "  return soma\n",
        "\n",
        "def comparando_valores(n, entrada):\n",
        "  somatorio=floaterro(n,int(entrada))\n",
        "  metodo_kahan=soma_kahan(n, entrada)\n",
        "\n",
        "\n",
        "  #relativo_erro_somatorio= (somatorio-metodo_kahan)/ metodo_kahan *100\n",
        "  diferença_valor = somatorio-metodo_kahan\n",
        "  return diferença_valor\n",
        "  #return relativo_erro_somatorio\n",
        "\n",
        "valor=int(input())\n",
        "v_float=float(input())\n",
        "print(f\"o valor pelo meotodo de ponto fluatante foi:{floaterro(valor, v_float)}\")\n",
        "print(f\"o valor pelo algoritimo de soma de kahan foi:{soma_kahan(valor, v_float)}\")\n",
        "resultado=comparando_valores(valor, v_float)\n",
        "print(f\"Diferença do valor de comparação foi: {resultado}\")\n"
      ],
      "metadata": {
        "colab": {
          "base_uri": "https://localhost:8080/"
        },
        "id": "Yjv4U-DGs9cG",
        "outputId": "743d3be2-333a-4c88-c712-8f3b3173d0e5"
      },
      "execution_count": null,
      "outputs": [
        {
          "output_type": "stream",
          "name": "stdout",
          "text": [
            "10\n",
            "0.1\n",
            "o valor pelo meotodo de ponto fluatante foi:0.9999999999999999\n",
            "o valor pelo algoritimo de soma de kahan foi:1.0\n",
            "Diferença do valor de comparação foi: -1.0\n"
          ]
        }
      ]
    },
    {
      "cell_type": "markdown",
      "source": [
        "o algoritimo de kahan funciona atribuindo o erro para uma variavel \"temporaria\" logo com isso ele faz uma subtração com o proximo valor e atribui ao somatorio ate n vezes"
      ],
      "metadata": {
        "id": "m5BXYSpd5CaP"
      }
    },
    {
      "cell_type": "markdown",
      "source": [],
      "metadata": {
        "id": "e-9QzCsgt9dR"
      }
    },
    {
      "cell_type": "markdown",
      "source": [
        "rascunho de prog objeto"
      ],
      "metadata": {
        "id": "79WMD-rTQe8x"
      }
    },
    {
      "cell_type": "code",
      "source": [
        "import math\n",
        "def volume(n):\n",
        "  pi = 3.14159\n",
        "  volume_calculo = (4/3)* pi*math.pow(n,3);\n",
        "  return volume_calculo\n",
        "entrada=float(input())\n",
        "print(volume(entrada))"
      ],
      "metadata": {
        "colab": {
          "base_uri": "https://localhost:8080/"
        },
        "id": "8XI60gprPc6O",
        "outputId": "5a783e9a-362c-4b5a-e56f-02e944575f64"
      },
      "execution_count": null,
      "outputs": [
        {
          "output_type": "stream",
          "name": "stdout",
          "text": [
            "5\n",
            "523.5983333333332\n"
          ]
        }
      ]
    },
    {
      "cell_type": "markdown",
      "source": [
        "algoritimo para o calculo para a serie de taylor"
      ],
      "metadata": {
        "id": "Gn-wyzvEbgKf"
      }
    },
    {
      "cell_type": "code",
      "source": [
        "#calculo da serie de talyor\n",
        "\n",
        "import math\n",
        "def seres_of_taylor(i, n):\n",
        "\n",
        "    x=n\n",
        "    soma=0\n",
        "    for n in range(0, i+1):\n",
        "        soma+=math.pow(x,n)/math.factorial(n)\n",
        "    return soma\n",
        "\n",
        "entrada=int(input())\n",
        "#define o valor n que como padrao sempre usa 0.5\n",
        "tamanho_n=float(input())\n",
        "print(f\"valor da serie:{seres_of_taylor(entrada, tamanho_n)}\")"
      ],
      "metadata": {
        "colab": {
          "base_uri": "https://localhost:8080/"
        },
        "id": "gI7XJpaNbldO",
        "outputId": "3b520d21-7bf9-48a5-f40b-76a158469773"
      },
      "execution_count": null,
      "outputs": [
        {
          "output_type": "stream",
          "name": "stdout",
          "text": [
            "10\n",
            "0.5\n",
            "valor da serie:1.6487212706873655\n"
          ]
        }
      ]
    },
    {
      "cell_type": "markdown",
      "source": [
        "resolução da questão 4"
      ],
      "metadata": {
        "id": "jXQG7A7XjjXR"
      }
    },
    {
      "cell_type": "code",
      "source": [
        "import math\n",
        "\n",
        "def serie_taylor(f, x0, x, n):\n",
        "    \"\"\"\n",
        "    Calcula a série de Taylor de uma função f em torno de x0,\n",
        "    avaliada em x, até a ordem n.\n",
        "\n",
        "    Parâmetros:\n",
        "    f (função): função a ser aproximada\n",
        "    x0 (float): ponto em torno do qual a série é calculada\n",
        "    x (float): ponto em que a série é avaliada\n",
        "    n (int): ordem da série\n",
        "\n",
        "    Retorna:\n",
        "    float: valor da série de Taylor em x\n",
        "    \"\"\"\n",
        "    resultado = 0\n",
        "    for i in range(n+1):\n",
        "        # Calcula a derivada de ordem i da função f em x0\n",
        "        derivada = derivada_ordem_i(f, x0, i)\n",
        "\n",
        "        # Calcula o termo da série de Taylor\n",
        "        termo = (derivada / math.factorial(i)) * (x - x0)**i\n",
        "\n",
        "        # Adiciona o termo ao resultado\n",
        "        resultado += termo\n",
        "\n",
        "    return resultado\n",
        "\n",
        "def derivada_ordem_i(f, x, i):\n",
        "    \"\"\"\n",
        "    Calcula a derivada de ordem i da função f em x.\n",
        "\n",
        "    Parâmetros:\n",
        "    f (função): função a ser derivada\n",
        "    x (float): ponto em que a derivada é calculada\n",
        "    i (int): ordem da derivada\n",
        "\n",
        "    Retorna:\n",
        "    float: valor da derivada em x\n",
        "    \"\"\"\n",
        "    if i == 0:\n",
        "        return f(x)\n",
        "    else:\n",
        "        # Calcula a derivada da função f em x\n",
        "        h = 1e-6\n",
        "        derivada = (f(x + h) - f(x - h)) / (2 * h)\n",
        "\n",
        "        # Calcula a derivada de ordem i-1 da função f em x\n",
        "        return derivada_ordem_i(lambda x: derivada, x, i-1)\n",
        "\n",
        "# Exemplo de uso:\n",
        "def f(x):\n",
        "    return math.exp(x)\n",
        "\n",
        "x0 = 0\n",
        "x = 1\n",
        "n = 5\n",
        "\n",
        "resultado = serie_taylor(f, x0, x, n)\n",
        "print(\"Série de Taylor:\", resultado)\n",
        "print(\"Valor exato:\", f(x))"
      ],
      "metadata": {
        "colab": {
          "base_uri": "https://localhost:8080/"
        },
        "id": "PYQ_TW9JiSaZ",
        "outputId": "8f23f0cc-6362-4ac1-87ca-8a35f2c98755"
      },
      "execution_count": null,
      "outputs": [
        {
          "output_type": "stream",
          "name": "stdout",
          "text": [
            "Série de Taylor: 1.9999999999732445\n",
            "Valor exato: 2.718281828459045\n"
          ]
        }
      ]
    },
    {
      "cell_type": "code",
      "source": [
        "import sympy as sp\n",
        "\n",
        "# Definir a variável simbólica\n",
        "x = sp.Symbol('x')\n",
        "\n",
        "# Definir a função f(x) que queremos aproximar\n",
        "# Exemplo: f(x) = x**3 - 4*x**2 + x - 6\n",
        "f = x**3 - 4*x**2 + x - 6\n",
        "\n",
        "# Definir o ponto de expansão x0\n",
        "x0 = 2\n",
        "\n",
        "# Calcular as derivadas de f(x) em relação a x\n",
        "f_prime = sp.diff(f, x)  # Primeira derivada f'(x)\n",
        "f_double_prime = sp.diff(f_prime, x)  # Segunda derivada f''(x)\n",
        "\n",
        "# Avaliar f(x), f'(x) e f''(x) no ponto x0\n",
        "f_x0 = f.subs(x, x0)\n",
        "f_prime_x0 = f_prime.subs(x, x0)\n",
        "f_double_prime_x0 = f_double_prime.subs(x, x0)\n",
        "\n",
        "# Definir a aproximação de Taylor de segunda ordem\n",
        "taylor_approx = f_x0 + f_prime_x0 * (x - x0) + (f_double_prime_x0 / 2) * (x - x0)**2\n",
        "\n",
        "# Exibir a expansão de Taylor\n",
        "print(f\"Expansão de Taylor de f(x) em torno de x0 = {x0}:\")\n",
        "print(taylor_approx)\n",
        "\n",
        "# Converter a expressão para uma função numérica para avaliação\n",
        "taylor_func = sp.lambdify(x, taylor_approx)\n",
        "\n",
        "# Testar a aproximação em um valor de x\n",
        "x_value = 2.1\n",
        "print(f\"\\nAproximação de f({x_value}) usando Taylor: {taylor_func(x_value)}\")\n",
        "\n",
        "# Comparar com o valor exato de f(x)\n",
        "f_exact = sp.lambdify(x, f)  # Converter f(x) para função numérica\n",
        "print(f\"Valor exato de f({x_value}): {f_exact(x_value)}\")"
      ],
      "metadata": {
        "colab": {
          "base_uri": "https://localhost:8080/"
        },
        "id": "8oCoNddfivXd",
        "outputId": "a5969acc-0bfe-4551-8af0-6512f60fe50a"
      },
      "execution_count": null,
      "outputs": [
        {
          "output_type": "stream",
          "name": "stdout",
          "text": [
            "Expansão de Taylor de f(x) em torno de x0 = 2:\n",
            "-3*x + 2*(x - 2)**2 - 6\n",
            "\n",
            "Aproximação de f(2.1) usando Taylor: -12.280000000000001\n",
            "Valor exato de f(2.1): -12.279\n"
          ]
        }
      ]
    },
    {
      "cell_type": "code",
      "source": [
        "import math\n",
        "import numpy as np\n",
        "import matplotlib.pyplot as plt\n",
        "\n",
        "def forward_difference(f, dx):\n",
        "    return (f[1] - f[0]) / dx\n",
        "\n",
        "def backward_difference(f, dx):\n",
        "    return (f[-1] - f[-2]) / dx\n",
        "\n",
        "def centered_difference(f, dx):\n",
        "    return (f[2] - f[0]) / (2 * dx)\n",
        "\n",
        "def three_point_endpoint(f, dx):\n",
        "    return (-3*f[0] + 4*f[1] - f[2]) / (2 * dx)\n",
        "\n",
        "def three_point_midpoint(f, dx):\n",
        "    return (f[2] - f[0]) / (2 * dx)\n",
        "\n",
        "def five_point_midpoint(f, dx):\n",
        "    return (-f[4] + 8*f[3] - 8*f[1] + f[0]) / (12 * dx)\n",
        "\n",
        "def second_derivative_centered(f, dx):\n",
        "    return (f[2] - 2*f[1] + f[0]) / (dx**2)\n",
        "\n",
        "def f(x):\n",
        "    return math.exp(math.cos(x)) * math.sin(x)\n",
        "\n",
        "def df(x):\n",
        "    return math.exp(math.cos(x)) * (math.cos(x) - math.sin(x) * math.sin(x))\n",
        "\n",
        "def d2f(x):\n",
        "    return math.exp(math.cos(x)) * (\n",
        "        -math.sin(x) - 2*math.cos(x)*math.sin(x)\n",
        "        - math.sin(x)**2 * math.cos(x) + math.sin(x)**3\n",
        "    )\n",
        "\n",
        "def test_approximations(x0, dx):\n",
        "    x = [x0 + i*dx for i in range(-2, 3)]\n",
        "    f_values = [f(xi) for xi in x]\n",
        "\n",
        "    approx_df = centered_difference(f_values[1:4], dx)\n",
        "    approx_d2f = second_derivative_centered(f_values[1:4], dx)\n",
        "\n",
        "    exact_df = df(x0)\n",
        "    exact_d2f = d2f(x0)\n",
        "\n",
        "    error_df = abs(approx_df - exact_df)\n",
        "    error_d2f = abs(approx_d2f - exact_d2f)\n",
        "\n",
        "    return approx_df, approx_d2f, exact_df, exact_d2f, error_df, error_d2f\n",
        "\n",
        "# Pontos de teste e valores de dx\n",
        "test_points = [0, math.pi/2, math.pi]\n",
        "dx_values = [0.1, 0.01, 0.001, 0.0001]\n",
        "\n",
        "# Armazenar resultados\n",
        "results = {dx: {x0: {} for x0 in test_points} for dx in dx_values}\n",
        "\n",
        "for dx in dx_values:\n",
        "    for x0 in test_points:\n",
        "        approx_df, approx_d2f, exact_df, exact_d2f, error_df, error_d2f = test_approximations(x0, dx)\n",
        "        results[dx][x0] = {\n",
        "            'approx_df': approx_df,\n",
        "            'approx_d2f': approx_d2f,\n",
        "            'exact_df': exact_df,\n",
        "            'exact_d2f': exact_d2f,\n",
        "            'error_df': error_df,\n",
        "            'error_d2f': error_d2f\n",
        "        }\n",
        "\n",
        "# Imprimir resultados\n",
        "for dx in dx_values:\n",
        "    print(f\"\\nPara dx = {dx}:\")\n",
        "    for x0 in test_points:\n",
        "        print(f\"  Em x0 = {x0:.4f}:\")\n",
        "        r = results[dx][x0]\n",
        "        print(f\"    f'(x0) aproximado: {r['approx_df']:.6f}, exato: {r['exact_df']:.6f}, erro: {r['error_df']:.6e}\")\n",
        "        print(f\"    f''(x0) aproximado: {r['approx_d2f']:.6f}, exato: {r['exact_d2f']:.6f}, erro: {r['error_d2f']:.6e}\")\n",
        "\n",
        "# Plotar erros\n",
        "plt.figure(figsize=(12, 6))\n",
        "for i, x0 in enumerate(test_points):\n",
        "    errors_df = [results[dx][x0]['error_df'] for dx in dx_values]\n",
        "    errors_d2f = [results[dx][x0]['error_d2f'] for dx in dx_values]\n",
        "\n",
        "    plt.subplot(1, 2, 1)\n",
        "    plt.loglog(dx_values, errors_df, 'o-', label=f'x0 = {x0:.2f}')\n",
        "    plt.subplot(1, 2, 2)\n",
        "    plt.loglog(dx_values, errors_d2f, 'o-', label=f'x0 = {x0:.2f}')\n",
        "\n",
        "plt.subplot(1, 2, 1)\n",
        "plt.title(\"Erro na aproximação da primeira derivada\")\n",
        "plt.xlabel(\"Δx\")\n",
        "plt.ylabel(\"Erro absoluto\")\n",
        "plt.legend()\n",
        "plt.grid(True)\n",
        "\n",
        "plt.subplot(1, 2, 2)\n",
        "plt.title(\"Erro na aproximação da segunda derivada\")\n",
        "plt.xlabel(\"Δx\")\n",
        "plt.ylabel(\"Erro absoluto\")\n",
        "plt.legend()\n",
        "plt.grid(True)\n",
        "\n",
        "plt.tight_layout()\n",
        "plt.show()"
      ],
      "metadata": {
        "colab": {
          "base_uri": "https://localhost:8080/",
          "height": 1000
        },
        "id": "B55u0MLokiTu",
        "outputId": "d0876c81-23e6-48d8-9fef-a6a80a2206e4"
      },
      "execution_count": null,
      "outputs": [
        {
          "output_type": "stream",
          "name": "stdout",
          "text": [
            "\n",
            "Para dx = 0.1:\n",
            "  Em x0 = 0.0000:\n",
            "    f'(x0) aproximado: 2.700230, exato: 2.718282, erro: 1.805186e-02\n",
            "    f''(x0) aproximado: 0.000000, exato: 0.000000, erro: 0.000000e+00\n",
            "  Em x0 = 1.5708:\n",
            "    f'(x0) aproximado: -0.994998, exato: -1.000000, erro: 5.002457e-03\n",
            "    f''(x0) aproximado: -0.006651, exato: -0.000000, erro: 6.651108e-03\n",
            "  Em x0 = 3.1416:\n",
            "    f'(x0) aproximado: -0.369106, exato: -0.367879, erro: 1.226568e-03\n",
            "    f''(x0) aproximado: 0.000000, exato: 0.000000, erro: 6.488372e-16\n",
            "\n",
            "Para dx = 0.01:\n",
            "  Em x0 = 0.0000:\n",
            "    f'(x0) aproximado: 2.718101, exato: 2.718282, erro: 1.812118e-04\n",
            "    f''(x0) aproximado: 0.000000, exato: 0.000000, erro: 0.000000e+00\n",
            "  Em x0 = 1.5708:\n",
            "    f'(x0) aproximado: -0.999950, exato: -1.000000, erro: 5.000025e-05\n",
            "    f''(x0) aproximado: -0.000067, exato: -0.000000, erro: 6.666511e-05\n",
            "  Em x0 = 3.1416:\n",
            "    f'(x0) aproximado: -0.367892, exato: -0.367879, erro: 1.226268e-05\n",
            "    f''(x0) aproximado: 0.000000, exato: 0.000000, erro: 4.505224e-17\n",
            "\n",
            "Para dx = 0.001:\n",
            "  Em x0 = 0.0000:\n",
            "    f'(x0) aproximado: 2.718280, exato: 2.718282, erro: 1.812187e-06\n",
            "    f''(x0) aproximado: 0.000000, exato: 0.000000, erro: 0.000000e+00\n",
            "  Em x0 = 1.5708:\n",
            "    f'(x0) aproximado: -0.999999, exato: -1.000000, erro: 5.000002e-07\n",
            "    f''(x0) aproximado: -0.000001, exato: -0.000000, erro: 6.665779e-07\n",
            "  Em x0 = 3.1416:\n",
            "    f'(x0) aproximado: -0.367880, exato: -0.367879, erro: 1.226264e-07\n",
            "    f''(x0) aproximado: 0.000000, exato: 0.000000, erro: 5.416506e-14\n",
            "\n",
            "Para dx = 0.0001:\n",
            "  Em x0 = 0.0000:\n",
            "    f'(x0) aproximado: 2.718282, exato: 2.718282, erro: 1.812188e-08\n",
            "    f''(x0) aproximado: 0.000000, exato: 0.000000, erro: 0.000000e+00\n",
            "  Em x0 = 1.5708:\n",
            "    f'(x0) aproximado: -1.000000, exato: -1.000000, erro: 5.000555e-09\n",
            "    f''(x0) aproximado: 0.000000, exato: -0.000000, erro: 2.220446e-16\n",
            "  Em x0 = 3.1416:\n",
            "    f'(x0) aproximado: -0.367879, exato: -0.367879, erro: 1.227041e-09\n",
            "    f''(x0) aproximado: 0.000000, exato: 0.000000, erro: 4.505224e-17\n"
          ]
        },
        {
          "output_type": "display_data",
          "data": {
            "text/plain": [
              "<Figure size 1200x600 with 2 Axes>"
            ],
            "image/png": "[encoded data removed]"
          },
          "metadata": {}
        }
      ]
    }
  ]
}