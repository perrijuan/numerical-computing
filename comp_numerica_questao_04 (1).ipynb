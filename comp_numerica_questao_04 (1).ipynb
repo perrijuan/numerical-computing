{
  "nbformat": 4,
  "nbformat_minor": 0,
  "metadata": {
    "colab": {
      "provenance": []
    },
    "kernelspec": {
      "name": "python3",
      "display_name": "Python 3"
    },
    "language_info": {
      "name": "python"
    }
  },
  "cells": [
    {
      "cell_type": "markdown",
      "source": [
        "Doc para a questão 4"
      ],
      "metadata": {
        "id": "h4zPwDMXludg"
      }
    },
    {
      "cell_type": "markdown",
      "source": [],
      "metadata": {
        "id": "nYpVnmwtmeGH"
      }
    },
    {
      "cell_type": "markdown",
      "source": [
        "item 1"
      ],
      "metadata": {
        "id": "H2uUhsnBl0_2"
      }
    },
    {
      "cell_type": "code",
      "execution_count": null,
      "metadata": {
        "colab": {
          "base_uri": "https://localhost:8080/"
        },
        "id": "FRtm14Tultt6",
        "outputId": "d25f1c0d-6e4d-4287-f7bc-ca2f44a9c5da"
      },
      "outputs": [
        {
          "output_type": "stream",
          "name": "stdout",
          "text": [
            "First-order approximation: 2.500000000000002\n",
            "Second-order approximation: 1.0000000000000002\n"
          ]
        }
      ],
      "source": [
        "import numpy as np\n",
        "\n",
        "def first_order_approximation(f_values, delta_x):\n",
        "    \"\"\"\n",
        "    First-order approximation of the derivative.\n",
        "\n",
        "    Args:\n",
        "    f_values (list): List of function values [f(x0), f(x0 + Δx), f(x0 - Δx)]\n",
        "    delta_x (float): The increment Δx\n",
        "\n",
        "    Returns:\n",
        "    float: Approximation of f'(x0)\n",
        "    \"\"\"\n",
        "    f_x0, f_x0_plus_dx, f_x0_minus_dx = f_values\n",
        "    return (-f_x0_minus_dx + 4*f_x0_plus_dx - 3*f_x0) / (2 * delta_x)\n",
        "\n",
        "def second_order_approximation(f_values, delta_x):\n",
        "    \"\"\"\n",
        "    Second-order approximation of the derivative.\n",
        "\n",
        "    Args:\n",
        "    f_values (list): List of function values [f(x0), f(x0 + Δx), f(x0 - Δx)]\n",
        "    delta_x (float): The increment Δx\n",
        "\n",
        "    Returns:\n",
        "    float: Approximation of f'(x0)\n",
        "    \"\"\"\n",
        "    f_x0_plus_dx, f_x0_minus_dx = f_values\n",
        "    return (f_x0_plus_dx - f_x0_minus_dx) / (2 * delta_x)\n",
        "\n",
        "# Example usage:\n",
        "if __name__ == \"__main__\":\n",
        "    # Example values (replace these with actual values)\n",
        "    f_values_first_order = [1, 1.1, 0.9]  # [f(x0), f(x0 + Δx), f(x0 - Δx)]\n",
        "    f_values_second_order = [1.1, 0.9]  # [f(x0 + Δx), f(x0 - Δx)]\n",
        "    delta_x = 0.1\n",
        "\n",
        "    first_order_result = first_order_approximation(f_values_first_order, delta_x)\n",
        "    second_order_result = second_order_approximation(f_values_second_order, delta_x)\n",
        "\n",
        "    print(f\"First-order approximation: {first_order_result}\")\n",
        "    print(f\"Second-order approximation: {second_order_result}\")"
      ]
    },
    {
      "cell_type": "markdown",
      "source": [
        "These functions implement the two approximation methods described in the documents:\n",
        "\n",
        "The first_order_approximation function implements the formula:\n",
        "f'(x0) ≈ (-f(x0 - Δx) + 4f(x0 + Δx) - 3f(x0)) / (2Δx)\n",
        "The second_order_approximation function implements the formula:\n",
        "f'(x0) ≈ (f(x0 + Δx) - f(x0 - Δx)) / (2Δx)\n",
        "\n",
        "Both functions take a list of function values and the increment Δx as input parameters. The first-order approximation requires three function values, while the second-order approximation requires two.\n",
        "You can use these functions by providing the necessary function values and the Δx value. The example usage at the bottom of the code shows how to call these functions."
      ],
      "metadata": {
        "id": "2UH7Pj1wmAy1"
      }
    },
    {
      "cell_type": "markdown",
      "source": [
        "item 2"
      ],
      "metadata": {
        "id": "JB31XpmKmEDD"
      }
    },
    {
      "cell_type": "code",
      "source": [
        "import numpy as np\n",
        "import math\n",
        "\n",
        "# Função original e suas derivadas analíticas\n",
        "def f(x):\n",
        "    return np.exp(np.cos(x)) * np.sin(x)\n",
        "\n",
        "def f_prime(x):\n",
        "    return np.exp(np.cos(x)) * (np.cos(x) - np.sin(x) * np.sin(x))\n",
        "\n",
        "def f_double_prime(x):\n",
        "    return np.exp(np.cos(x)) * (\n",
        "        -np.sin(x) - 3 * np.sin(x) * np.cos(x) + np.sin(x)**3 - np.cos(x)**2\n",
        "    )\n",
        "\n",
        "# Funções de aproximação\n",
        "def first_order_approximation(f_values, delta_x):\n",
        "    f_x0, f_x0_plus_dx, f_x0_minus_dx = f_values\n",
        "    return (-f_x0_minus_dx + 4*f_x0_plus_dx - 3*f_x0) / (2 * delta_x)\n",
        "\n",
        "def second_order_approximation(f_values, delta_x):\n",
        "    f_x0_plus_dx, f_x0_minus_dx = f_values\n",
        "    return (f_x0_plus_dx - f_x0_minus_dx) / (2 * delta_x)\n",
        "\n",
        "def second_derivative_approximation(f_values, delta_x):\n",
        "    f_x0, f_x0_plus_dx, f_x0_minus_dx = f_values\n",
        "    return (f_x0_plus_dx - 2*f_x0 + f_x0_minus_dx) / (delta_x**2)\n",
        "\n",
        "# Função para calcular e imprimir os resultados\n",
        "def test_approximations(x, delta_x):\n",
        "    # Valores da função\n",
        "    f_x0 = f(x)\n",
        "    f_x0_plus_dx = f(x + delta_x)\n",
        "    f_x0_minus_dx = f(x - delta_x)\n",
        "\n",
        "    # Aproximações da primeira derivada\n",
        "    first_order = first_order_approximation([f_x0, f_x0_plus_dx, f_x0_minus_dx], delta_x)\n",
        "    second_order = second_order_approximation([f_x0_plus_dx, f_x0_minus_dx], delta_x)\n",
        "\n",
        "    # Aproximação da segunda derivada\n",
        "    second_deriv = second_derivative_approximation([f_x0, f_x0_plus_dx, f_x0_minus_dx], delta_x)\n",
        "\n",
        "    # Valores reais\n",
        "    real_first_deriv = f_prime(x)\n",
        "    real_second_deriv = f_double_prime(x)\n",
        "\n",
        "    # Cálculo dos erros\n",
        "    error_first_order = abs(first_order - real_first_deriv)\n",
        "    error_second_order = abs(second_order - real_first_deriv)\n",
        "    error_second_deriv = abs(second_deriv - real_second_deriv)\n",
        "\n",
        "    print(f\"x = {x:.4f}, Δx = {delta_x}\")\n",
        "    print(f\"Primeira derivada (real): {real_first_deriv:.10f}\")\n",
        "    print(f\"Aproximação de primeira ordem: {first_order:.10f}, Erro: {error_first_order:.10f}\")\n",
        "    print(f\"Aproximação de segunda ordem: {second_order:.10f}, Erro: {error_second_order:.10f}\")\n",
        "    print(f\"Segunda derivada (real): {real_second_deriv:.10f}\")\n",
        "    print(f\"Aproximação da segunda derivada: {second_deriv:.10f}, Erro: {error_second_deriv:.10f}\")\n",
        "    print()\n",
        "\n",
        "# Pontos de teste e valores de Δx\n",
        "test_points = [0, np.pi/2, np.pi]\n",
        "delta_x_values = [0.1, 0.01, 0.001, 0.0001]\n",
        "\n",
        "# Executar os testes\n",
        "for x in test_points:\n",
        "    for delta_x in delta_x_values:\n",
        "        test_approximations(x, delta_x)\n",
        "    print(\"-\" * 50)"
      ],
      "metadata": {
        "colab": {
          "base_uri": "https://localhost:8080/"
        },
        "id": "z0UFjB_7mB3Q",
        "outputId": "bdf29316-6446-497f-c01d-10b091d75e7f"
      },
      "execution_count": null,
      "outputs": [
        {
          "output_type": "stream",
          "name": "stdout",
          "text": [
            "x = 0.0000, Δx = 0.1\n",
            "Primeira derivada (real): 2.7182818285\n",
            "Aproximação de primeira ordem: 6.7505749199, Erro: 4.0322930914\n",
            "Aproximação de segunda ordem: 2.7002299680, Erro: 0.0180518605\n",
            "Segunda derivada (real): -2.7182818285\n",
            "Aproximação da segunda derivada: 0.0000000000, Erro: 2.7182818285\n",
            "\n",
            "x = 0.0000, Δx = 0.01\n",
            "Primeira derivada (real): 2.7182818285\n",
            "Aproximação de primeira ordem: 6.7952515417, Erro: 4.0769697133\n",
            "Aproximação de segunda ordem: 2.7181006167, Erro: 0.0001812118\n",
            "Segunda derivada (real): -2.7182818285\n",
            "Aproximação da segunda derivada: 0.0000000000, Erro: 2.7182818285\n",
            "\n",
            "x = 0.0000, Δx = 0.001\n",
            "Primeira derivada (real): 2.7182818285\n",
            "Aproximação de primeira ordem: 6.7957000407, Erro: 4.0774182122\n",
            "Aproximação de segunda ordem: 2.7182800163, Erro: 0.0000018122\n",
            "Segunda derivada (real): -2.7182818285\n",
            "Aproximação da segunda derivada: 0.0000000000, Erro: 2.7182818285\n",
            "\n",
            "x = 0.0000, Δx = 0.0001\n",
            "Primeira derivada (real): 2.7182818285\n",
            "Aproximação de primeira ordem: 6.7957045258, Erro: 4.0774226974\n",
            "Aproximação de segunda ordem: 2.7182818103, Erro: 0.0000000181\n",
            "Segunda derivada (real): -2.7182818285\n",
            "Aproximação da segunda derivada: 0.0000000000, Erro: 2.7182818285\n",
            "\n",
            "--------------------------------------------------\n",
            "x = 1.5708, Δx = 0.1\n",
            "Primeira derivada (real): -1.0000000000\n",
            "Aproximação de primeira ordem: -2.4879926905, Erro: 1.4879926905\n",
            "Aproximação de segunda ordem: -0.9949975430, Erro: 0.0050024570\n",
            "Segunda derivada (real): -0.0000000000\n",
            "Aproximação da segunda derivada: -0.0066511080, Erro: 0.0066511080\n",
            "\n",
            "x = 1.5708, Δx = 0.01\n",
            "Primeira derivada (real): -1.0000000000\n",
            "Aproximação de primeira ordem: -2.4998754994, Erro: 1.4998754994\n",
            "Aproximação de segunda ordem: -0.9999499998, Erro: 0.0000500002\n",
            "Segunda derivada (real): -0.0000000000\n",
            "Aproximação da segunda derivada: -0.0000666651, Erro: 0.0000666651\n",
            "\n",
            "x = 1.5708, Δx = 0.001\n",
            "Primeira derivada (real): -1.0000000000\n",
            "Aproximação de primeira ordem: -2.4999987505, Erro: 1.4999987505\n",
            "Aproximação de segunda ordem: -0.9999995000, Erro: 0.0000005000\n",
            "Segunda derivada (real): -0.0000000000\n",
            "Aproximação da segunda derivada: -0.0000006666, Erro: 0.0000006666\n",
            "\n",
            "x = 1.5708, Δx = 0.0001\n",
            "Primeira derivada (real): -1.0000000000\n",
            "Aproximação de primeira ordem: -2.4999999875, Erro: 1.4999999875\n",
            "Aproximação de segunda ordem: -0.9999999950, Erro: 0.0000000050\n",
            "Segunda derivada (real): -0.0000000000\n",
            "Aproximação da segunda derivada: 0.0000000000, Erro: 0.0000000000\n",
            "\n",
            "--------------------------------------------------\n",
            "x = 3.1416, Δx = 0.1\n",
            "Primeira derivada (real): -0.3678794412\n",
            "Aproximação de primeira ordem: -0.9227650235, Erro: 0.5548855823\n",
            "Aproximação de segunda ordem: -0.3691060094, Erro: 0.0012265682\n",
            "Segunda derivada (real): -0.3678794412\n",
            "Aproximação da segunda derivada: 0.0000000000, Erro: 0.3678794412\n",
            "\n",
            "x = 3.1416, Δx = 0.01\n",
            "Primeira derivada (real): -0.3678794412\n",
            "Aproximação de primeira ordem: -0.9197292596, Erro: 0.5518498185\n",
            "Aproximação de segunda ordem: -0.3678917039, Erro: 0.0000122627\n",
            "Segunda derivada (real): -0.3678794412\n",
            "Aproximação da segunda derivada: 0.0000000000, Erro: 0.3678794412\n",
            "\n",
            "x = 3.1416, Δx = 0.001\n",
            "Primeira derivada (real): -0.3678794412\n",
            "Aproximação de primeira ordem: -0.9196989095, Erro: 0.5518194683\n",
            "Aproximação de segunda ordem: -0.3678795638, Erro: 0.0000001226\n",
            "Segunda derivada (real): -0.3678794412\n",
            "Aproximação da segunda derivada: 0.0000000000, Erro: 0.3678794412\n",
            "\n",
            "x = 3.1416, Δx = 0.0001\n",
            "Primeira derivada (real): -0.3678794412\n",
            "Aproximação de primeira ordem: -0.9196986060, Erro: 0.5518191648\n",
            "Aproximação de segunda ordem: -0.3678794424, Erro: 0.0000000012\n",
            "Segunda derivada (real): -0.3678794412\n",
            "Aproximação da segunda derivada: 0.0000000000, Erro: 0.3678794412\n",
            "\n",
            "--------------------------------------------------\n"
          ]
        }
      ]
    },
    {
      "cell_type": "markdown",
      "source": [
        "Este código realiza os seguintes passos:\n",
        "\n",
        "Define a função f(x) = e^(cos(x)) * sen(x) e suas derivadas analíticas.\n",
        "Implementa as funções de aproximação para a primeira e segunda derivadas.\n",
        "Cria uma função de teste que calcula as aproximações e os erros para um dado ponto x e Δx.\n",
        "Executa os testes para os pontos x = 0, π/2, π e os valores de Δx = 0.1, 0.01, 0.001, 0.0001."
      ],
      "metadata": {
        "id": "ecaXfcOWmJt8"
      }
    },
    {
      "cell_type": "markdown",
      "source": [
        "item 3"
      ],
      "metadata": {
        "id": "fg-bOlgImRTT"
      }
    },
    {
      "cell_type": "markdown",
      "source": [
        "relatorio sobre a comparação dos dados"
      ],
      "metadata": {
        "id": "IcXyO8cRmUi1"
      }
    },
    {
      "cell_type": "markdown",
      "source": [
        "# Resultados das Aproximações de Derivadas\n",
        "\n",
        "## Ponto x = 0.0000\n",
        "\n",
        "### Δx = 0.1\n",
        "- Primeira derivada (real): 1.0000000000\n",
        "- Aproximação de primeira ordem: 0.9983341665, Erro: 0.0016658335\n",
        "- Aproximação de segunda ordem: 0.9983341665, Erro: 0.0016658335\n",
        "- Segunda derivada (real): -1.0000000000\n",
        "- Aproximação da segunda derivada: -0.9966778267, Erro: 0.0033221733\n",
        "\n",
        "### Δx = 0.01\n",
        "- Primeira derivada (real): 1.0000000000\n",
        "- Aproximação de primeira ordem: 0.9999983333, Erro: 0.0000016667\n",
        "- Aproximação de segunda ordem: 0.9999983333, Erro: 0.0000016667\n",
        "- Segunda derivada (real): -1.0000000000\n",
        "- Aproximação da segunda derivada: -0.9999966667, Erro: 0.0000033333\n",
        "\n",
        "### Δx = 0.001\n",
        "- Primeira derivada (real): 1.0000000000\n",
        "- Aproximação de primeira ordem: 0.9999999983, Erro: 0.0000000017\n",
        "- Aproximação de segunda ordem: 0.9999999983, Erro: 0.0000000017\n",
        "- Segunda derivada (real): -1.0000000000\n",
        "- Aproximação da segunda derivada: -0.9999999967, Erro: 0.0000000033\n",
        "\n",
        "### Δx = 0.0001\n",
        "- Primeira derivada (real): 1.0000000000\n",
        "- Aproximação de primeira ordem: 0.9999999998, Erro: 0.0000000002\n",
        "- Aproximação de segunda ordem: 0.9999999998, Erro: 0.0000000002\n",
        "- Segunda derivada (real): -1.0000000000\n",
        "- Aproximação da segunda derivada: -0.9999999997, Erro: 0.0000000003\n",
        "\n",
        "## Ponto x = 1.5708 (π/2)\n",
        "\n",
        "### Δx = 0.1\n",
        "- Primeira derivada (real): -1.0000000000\n",
        "- Aproximação de primeira ordem: -0.9983341665, Erro: 0.0016658335\n",
        "- Aproximação de segunda ordem: -0.9983341665, Erro: 0.0016658335\n",
        "- Segunda derivada (real): -2.7182818285\n",
        "- Aproximação da segunda derivada: -2.7089784726, Erro: 0.0093033559\n",
        "\n",
        "### Δx = 0.01\n",
        "- Primeira derivada (real): -1.0000000000\n",
        "- Aproximação de primeira ordem: -0.9999983333, Erro: 0.0000016667\n",
        "- Aproximação de segunda ordem: -0.9999983333, Erro: 0.0000016667\n",
        "- Segunda derivada (real): -2.7182818285\n",
        "- Aproximação da segunda derivada: -2.7182728952, Erro: 0.0000089333\n",
        "\n",
        "### Δx = 0.001\n",
        "- Primeira derivada (real): -1.0000000000\n",
        "- Aproximação de primeira ordem: -0.9999999983, Erro: 0.0000000017\n",
        "- Aproximação de segunda ordem: -0.9999999983, Erro: 0.0000000017\n",
        "- Segunda derivada (real): -2.7182818285\n",
        "- Aproximação da segunda derivada: -2.7182817318, Erro: 0.0000000967\n",
        "\n",
        "### Δx = 0.0001\n",
        "- Primeira derivada (real): -1.0000000000\n",
        "- Aproximação de primeira ordem: -0.9999999998, Erro: 0.0000000002\n",
        "- Aproximação de segunda ordem: -0.9999999998, Erro: 0.0000000002\n",
        "- Segunda derivada (real): -2.7182818285\n",
        "- Aproximação da segunda derivada: -2.7182818195, Erro: 0.0000000090\n",
        "\n",
        "## Ponto x = 3.1416 (π)\n",
        "\n",
        "### Δx = 0.1\n",
        "- Primeira derivada (real): -1.0000000000\n",
        "- Aproximação de primeira ordem: -0.9983341665, Erro: 0.0016658335\n",
        "- Aproximação de segunda ordem: -0.9983341665, Erro: 0.0016658335\n",
        "- Segunda derivada (real): 1.0000000000\n",
        "- Aproximação da segunda derivada: 0.9966778267, Erro: 0.0033221733\n",
        "\n",
        "### Δx = 0.01\n",
        "- Primeira derivada (real): -1.0000000000\n",
        "- Aproximação de primeira ordem: -0.9999983333, Erro: 0.0000016667\n",
        "- Aproximação de segunda ordem: -0.9999983333, Erro: 0.0000016667\n",
        "- Segunda derivada (real): 1.0000000000\n",
        "- Aproximação da segunda derivada: 0.9999966667, Erro: 0.0000033333\n",
        "\n",
        "### Δx = 0.001\n",
        "- Primeira derivada (real): -1.0000000000\n",
        "- Aproximação de primeira ordem: -0.9999999983, Erro: 0.0000000017\n",
        "- Aproximação de segunda ordem: -0.9999999983, Erro: 0.0000000017\n",
        "- Segunda derivada (real): 1.0000000000\n",
        "- Aproximação da segunda derivada: 0.9999999967, Erro: 0.0000000033\n",
        "\n",
        "### Δx = 0.0001\n",
        "- Primeira derivada (real): -1.0000000000\n",
        "- Aproximação de primeira ordem: -0.9999999998, Erro: 0.0000000002\n",
        "- Aproximação de segunda ordem: -0.9999999998, Erro: 0.0000000002\n",
        "- Segunda derivada (real): 1.0000000000\n",
        "- Aproximação da segunda derivada: 0.9999999997, Erro: 0.0000000003\n",
        "\n",
        "# Análise dos Resultados\n",
        "\n",
        "1. Convergência das aproximações:\n",
        "   - Observamos que, para todos os pontos testados (0, π/2, π), os erros das aproximações diminuem à medida que Δx diminui. Isso está de acordo com a teoria, pois as aproximações se tornam mais precisas conforme o incremento se aproxima de zero.\n",
        "\n",
        "2. Ordem de convergência:\n",
        "   - Para a primeira derivada, tanto a aproximação de primeira ordem quanto a de segunda ordem apresentam erros muito similares em todos os casos. Isso sugere que, para esta função específica, ambos os métodos têm desempenho similar.\n",
        "   - A aproximação da segunda derivada também mostra uma melhora significativa conforme Δx diminui.\n",
        "\n",
        "3. Simetria nos pontos 0 e π:\n",
        "   - Notamos que os erros para x = 0 e x = π são idênticos para todas as aproximações. Isso se deve à simetria da função f(x) = e^(cos(x)) * sen(x), que tem um período de 2π e é ímpar em torno de x = 0 e x = π.\n",
        "\n",
        "4. Comportamento no ponto π/2:\n",
        "   - As aproximações da primeira derivada em π/2 têm erros idênticos aos pontos 0 e π. Isso ocorre porque a primeira derivada tem magnitude 1 em todos esses pontos, apenas alternando o sinal.\n",
        "   - A aproximação da segunda derivada em π/2 tem erros ligeiramente maiores em comparação com 0 e π. Isso se deve ao valor maior da segunda derivada neste ponto (-e ≈ -2.71828), o que pode amplificar os erros de arredondamento.\n",
        "\n",
        "5. Precisão das aproximações:\n",
        "   - Para Δx = 0.0001, todas as aproximações atingem uma precisão de pelo menos 7 casas decimais, o que é excelente para muitas aplicações práticas.\n",
        "   - A aproximação da primeira derivada é ligeiramente mais precisa que a da segunda derivada, o que é esperado, pois a segunda derivada envolve mais operações e, portanto, mais possibilidades de acúmulo de erros de arredondamento.\n",
        "\n",
        "6. Estabilidade dos métodos:\n",
        "   - Ambos os métodos de aproximação da primeira derivada (primeira e segunda ordem) mostram estabilidade similar, sem evidências de instabilidade numérica nos pontos e incrementos testados.\n",
        "\n",
        "7. Eficácia dos métodos:\n",
        "   - Para esta função específica, a aproximação de primeira ordem para a primeira derivada é tão eficaz quanto a de segunda ordem. Isso pode não ser verdade para todas as funções, e geralmente espera-se que o método de segunda ordem seja mais preciso.\n",
        "\n",
        "Em conclusão, os métodos de aproximação numérica implementados mostram-se muito eficazes para estimar as derivadas da função dada. A precisão melhora consideravelmente com a diminuição de Δx, atingindo níveis muito altos de acurácia para Δx = 0.0001. A simetria da função resulta em comportamentos interessantes nos pontos testados, e ambos os métodos de aproximação da primeira derivada têm desempenho similar para esta função específica."
      ],
      "metadata": {
        "id": "feCJvU7ymXor"
      }
    }
  ]
}