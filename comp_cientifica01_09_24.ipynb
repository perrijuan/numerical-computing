{
  "nbformat": 4,
  "nbformat_minor": 0,
  "metadata": {
    "colab": {
      "provenance": [],
      "authorship_tag": "ABX9TyN+empVK+Y30stp/BMsf3vr",
      "include_colab_link": true
    },
    "kernelspec": {
      "name": "python3",
      "display_name": "Python 3"
    },
    "language_info": {
      "name": "python"
    }
  },
  "cells": [
    {
      "cell_type": "markdown",
      "metadata": {
        "id": "view-in-github",
        "colab_type": "text"
      },
      "source": [
        "<a href=\"https://colab.research.google.com/github/perrijuan/numerical-computing/blob/main/comp_cientifica01_09_24.ipynb\" target=\"_parent\"><img src=\"https://colab.research.google.com/assets/colab-badge.svg\" alt=\"Open In Colab\"/></a>"
      ]
    },
    {
      "cell_type": "markdown",
      "source": [
        "# tarefas dia 26/08/24"
      ],
      "metadata": {
        "id": "Lx-6Es7BlLCu"
      }
    },
    {
      "cell_type": "markdown",
      "source": [
        "terminar essa seamana todo dia fazer um pouco"
      ],
      "metadata": {
        "id": "cHmzV8oaydL_"
      }
    },
    {
      "cell_type": "markdown",
      "source": [
        "usando serie de taylor para satisfazer a equacao podemos satisfazer nossa aproximacao"
      ],
      "metadata": {
        "id": "cW2G2zrRvmAv"
      }
    },
    {
      "cell_type": "markdown",
      "source": [],
      "metadata": {
        "id": "FE23HCxg4Sbo"
      }
    },
    {
      "cell_type": "markdown",
      "source": [
        "(a) implementação de uma função apra calcular a aproximacao de e pela forma \"formula\""
      ],
      "metadata": {
        "id": "jmLv4uwllRKk"
      }
    },
    {
      "cell_type": "markdown",
      "source": [
        "usando a bibloteca math"
      ],
      "metadata": {
        "id": "anqy45m2r7HW"
      }
    },
    {
      "cell_type": "code",
      "source": [
        "import math\n",
        "\n",
        "entrada = int(input())\n",
        "\n",
        "print(math.factorial(entrada))"
      ],
      "metadata": {
        "colab": {
          "base_uri": "https://localhost:8080/"
        },
        "id": "bOgJxAi9rQVc",
        "outputId": "5465f019-25cc-4f16-852c-be6868dd5a3d"
      },
      "execution_count": 17,
      "outputs": [
        {
          "output_type": "stream",
          "name": "stdout",
          "text": [
            "20\n",
            "2432902008176640000\n"
          ]
        }
      ]
    },
    {
      "cell_type": "markdown",
      "source": [
        "usando loop para aplicar o fatorial"
      ],
      "metadata": {
        "id": "MKUsVjAbsBBp"
      }
    },
    {
      "cell_type": "code",
      "execution_count": null,
      "metadata": {
        "colab": {
          "base_uri": "https://localhost:8080/"
        },
        "id": "Z4kbkCXelJ1e",
        "outputId": "7ede9c02-7a15-4fab-8d03-ab5848aa5e59"
      },
      "outputs": [
        {
          "output_type": "stream",
          "name": "stdout",
          "text": [
            "20\n",
            "2432902008176640000\n"
          ]
        }
      ],
      "source": [
        "entrada=int(input())\n",
        "#começa com 1\n",
        "#fazer o fatorial e depois aplicar a equacao de euler dividindo\n",
        "#evitar usar a recursao\n",
        "#parte da questao c\n",
        "fatorial=1\n",
        "while(entrada>0):\n",
        "    fatorial=fatorial*entrada\n",
        "    entrada=entrada-1\n",
        "print(fatorial)"
      ]
    },
    {
      "cell_type": "markdown",
      "source": [
        "usando a recursao como teste"
      ],
      "metadata": {
        "id": "DDgwZXIKphQU"
      }
    },
    {
      "cell_type": "code",
      "source": [
        "def fatorial (n):\n",
        "  if(n<=1):\n",
        "    return 1\n",
        "  else:\n",
        "   return (n*fatorial(n-1))\n",
        "n=int(input())\n",
        "print(fatorial(n))"
      ],
      "metadata": {
        "colab": {
          "base_uri": "https://localhost:8080/"
        },
        "id": "Nm14-kXsntJy",
        "outputId": "c92cbc10-fb5a-4ea8-a021-59123e7e387d"
      },
      "execution_count": 5,
      "outputs": [
        {
          "output_type": "stream",
          "name": "stdout",
          "text": [
            "20\n",
            "2432902008176640000\n"
          ]
        }
      ]
    },
    {
      "cell_type": "code",
      "source": [
        "\n",
        "import math\n",
        "\n",
        "def euler (a):\n",
        "  fatorial=math.factorial(a)\n",
        "\n",
        "  while(a>0):\n",
        "    x=1/math.factorial(a)\n",
        "    a=a-1\n",
        "\n",
        "  print(x)\n",
        "\n",
        "valor=int(input())\n",
        "\n",
        "euler(valor)\n"
      ],
      "metadata": {
        "colab": {
          "base_uri": "https://localhost:8080/"
        },
        "id": "6FHSJFDpstc3",
        "outputId": "20a7dfc9-bf0a-4f62-a3b3-50fc253c91b9"
      },
      "execution_count": null,
      "outputs": [
        {
          "output_type": "stream",
          "name": "stdout",
          "text": [
            "20\n",
            "1.0\n"
          ]
        }
      ]
    },
    {
      "cell_type": "markdown",
      "source": [
        "usando o modulo math para obter o e"
      ],
      "metadata": {
        "id": "_1s-77GOwnBn"
      }
    },
    {
      "cell_type": "code",
      "source": [
        "from math import e\n",
        "\n",
        "print(e)"
      ],
      "metadata": {
        "colab": {
          "base_uri": "https://localhost:8080/"
        },
        "id": "H0EfwBwiwl2W",
        "outputId": "7c6b40ac-59ed-4cb7-8006-c8fb62306609"
      },
      "execution_count": null,
      "outputs": [
        {
          "output_type": "stream",
          "name": "stdout",
          "text": [
            "2.718281828459045\n"
          ]
        }
      ]
    },
    {
      "cell_type": "markdown",
      "source": [
        "agora vamos a aproximacao de e, usando a equacao .....\n"
      ],
      "metadata": {
        "id": "vjWA4DwM4V5G"
      }
    },
    {
      "cell_type": "markdown",
      "source": [],
      "metadata": {
        "id": "qn9aJPM_6wZH"
      }
    },
    {
      "cell_type": "code",
      "source": [
        "import math\n",
        "entrada=int(input())\n",
        "\n",
        "def euler_prox(entrada):\n",
        "  euler=1\n",
        "  for a in range(entrada):\n",
        "    euler=+1/math.factorial(a)\n",
        "    return euler\n",
        "\n",
        "print(math.factorial(entrada))\n",
        "print(euler_prox(entrada))\n"
      ],
      "metadata": {
        "colab": {
          "base_uri": "https://localhost:8080/"
        },
        "id": "er92EB9D4i0t",
        "outputId": "f747d209-a907-4232-b59e-4c6079e50cff"
      },
      "execution_count": 20,
      "outputs": [
        {
          "output_type": "stream",
          "name": "stdout",
          "text": [
            "100\n",
            "93326215443944152681699238856266700490715968264381621468592963895217599993229915608941463976156518286253697920827223758251185210916864000000000000000000000000\n",
            "1.0\n"
          ]
        }
      ]
    },
    {
      "cell_type": "markdown",
      "source": [],
      "metadata": {
        "id": "usnr1mzl6pHW"
      }
    },
    {
      "cell_type": "markdown",
      "source": [
        "question b using of result of comparing for a your function with valure of function factorial of libary math  "
      ],
      "metadata": {
        "id": "0pOXI6jy6pbc"
      }
    },
    {
      "cell_type": "code",
      "source": [
        "def fatorial(entrada):\n",
        "  recursive=1\n",
        "  if(entrada<1):\n",
        "    return 1\n",
        "  else:\n",
        "    while(entrada>0):\n",
        "      recursive=entrada*recursive\n",
        "      entrada=entrada-1\n",
        "  return recursive\n",
        "\n",
        "def aproximate_euler(entrada):\n",
        "  euler=1\n",
        "  for y in range(entrada):\n",
        "    euler=+1/fatorial(entrada)\n",
        "  return euler\n",
        "\n",
        "ent=int(input())\n",
        "\n",
        "print(aproximate_euler(ent))\n",
        "print(fatorial(ent))"
      ],
      "metadata": {
        "colab": {
          "base_uri": "https://localhost:8080/"
        },
        "id": "5WvJhh4z7CYt",
        "outputId": "26ccc768-881c-4d54-a674-141ab40db928"
      },
      "execution_count": null,
      "outputs": [
        {
          "output_type": "stream",
          "name": "stdout",
          "text": [
            "20\n",
            "4.110317623312165e-19\n",
            "2432902008176640000\n"
          ]
        }
      ]
    },
    {
      "cell_type": "markdown",
      "source": [
        "remake taks previuos but inplementing with item a one function with dont calculus explict they factorial"
      ],
      "metadata": {
        "id": "ECtKy2Xd-szu"
      }
    },
    {
      "cell_type": "markdown",
      "source": [
        "a função gama ela generealiza o conceito de fatorial para os reais e complexos logo foi escolida para a representação"
      ],
      "metadata": {
        "id": "QmWSeilYdrz6"
      }
    },
    {
      "cell_type": "code",
      "source": [
        "#letra c\n",
        "import math\n",
        "\n",
        "def factorial_gamma(n):\n",
        "  return math.gamma(n+1)\n",
        "\n",
        "entrada=int(input())\n",
        "print(factorial_gamma(entrada))"
      ],
      "metadata": {
        "id": "v2dS8mwn_GHI"
      },
      "execution_count": null,
      "outputs": []
    },
    {
      "cell_type": "markdown",
      "source": [
        "agora vamos aplicar a equação para usar a aproximação do fatorial"
      ],
      "metadata": {
        "id": "Z6xB1ON4f03-"
      }
    },
    {
      "cell_type": "code",
      "source": [
        "import math\n",
        "\n",
        "def factorial_gamma(n):\n",
        "  return math.gamma(n+1)\n",
        "\n",
        "def aprox_euler(n):\n",
        "  euler=1\n",
        "  for y in range(n):\n",
        "    euler=+1/factorial_gamma(n)\n",
        "    return euler\n",
        "\n",
        "entrada=int(input())\n",
        "print(factorial_gamma(entrada))\n",
        "print(aprox_euler(entrada))\n"
      ],
      "metadata": {
        "colab": {
          "base_uri": "https://localhost:8080/"
        },
        "id": "RCtAEWKofzrV",
        "outputId": "fe36f44e-2720-43cb-a614-5c4dae3d7121"
      },
      "execution_count": 13,
      "outputs": [
        {
          "output_type": "stream",
          "name": "stdout",
          "text": [
            "20\n",
            "2.43290200817664e+18\n",
            "4.110317623312165e-19\n"
          ]
        }
      ]
    },
    {
      "cell_type": "code",
      "source": [],
      "metadata": {
        "id": "P8C6mvG92e4B"
      },
      "execution_count": null,
      "outputs": []
    }
  ]
}