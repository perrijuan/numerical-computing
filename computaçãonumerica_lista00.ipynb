{
  "nbformat": 4,
  "nbformat_minor": 0,
  "metadata": {
    "colab": {
      "provenance": [],
      "authorship_tag": "ABX9TyNaDzlstkAaTZNYA/UMXOzk",
      "include_colab_link": true
    },
    "kernelspec": {
      "name": "python3",
      "display_name": "Python 3"
    },
    "language_info": {
      "name": "python"
    }
  },
  "cells": [
    {
      "cell_type": "markdown",
      "metadata": {
        "id": "view-in-github",
        "colab_type": "text"
      },
      "source": [
        "<a href=\"https://colab.research.google.com/github/perrijuan/numerical-computing/blob/main/computa%C3%A7%C3%A3onumerica_lista00.ipynb\" target=\"_parent\"><img src=\"https://colab.research.google.com/assets/colab-badge.svg\" alt=\"Open In Colab\"/></a>"
      ]
    },
    {
      "cell_type": "markdown",
      "source": [
        "# tarefas para analise de execução"
      ],
      "metadata": {
        "id": "MKlFcGnwm5pH"
      }
    },
    {
      "cell_type": "markdown",
      "source": [
        "A definição de fatorial :"
      ],
      "metadata": {
        "id": "DpNpH-HPocVN"
      }
    },
    {
      "cell_type": "markdown",
      "source": [
        "![image.png](data:image/png;base64,iVBORw0KGgoAAAANSUhEUgAAAcMAAAAxCAYAAACmq8J4AAARMklEQVR4Ae2dBZAtRxWGf9xdgrt7cHcnOAQP7i7BJbhb8GDB3d1dCgheSCHBHQooqpDC5nuvz0tvp6dn7u6du3fe/qdqd+7M9LT8091Hu0cyGQEjYASMgBEwAkbACBgBI2AEjIARMAJGwAgYASNgBIzAzBC4pqSnSrqBpEtKuoukK8ysDa6uETACRsAIGIEtIfBoSQ+S9AFJR5F0RUnv2FKOftgIGAEjYASMwAwRgPldP9X7EUlTnGEzXGUjYASMgBEwAptH4LeSTpge/5Kki0o69+az85NGwAgYASNgBOaFwPkkfSVV+eiSYIz7SbrSvJrh2hoBI2AEjIAR2DwCZ5REEE3Q7SQdECc+GgEjYASMgBEwAkbACBgBI2AEjIARMAJGwAgYASNgBPYOBE4u6cpL/Dvq3gGLW2EEjIARMAI7CYFzSXqfpD9K+l/295JubeFjG38fzdLy3AclPUMSgTYmI2AEjIARMAKzROBokg7LGNy+A614WJb2tQNpfdsIGAEjYASMwGwQeHHG4C48UOuHZ2lvOpDWt42AETACRsAIbAqB80q6syQ0tlVRzgxZXN+iR26CGbKl204j2ozJ+cxr3vDjS3qrpGOvuJ7H7bB5laQTrLjcRYvj/VHPndiHF8XK6XcmAkNjg/tDaarIsR8ovrjLVO9Oc3EqZnhWSd9J7XnyNFVf21yfIOkea1a7M2Vb7OVVu3zyH68yCOrNkq6aV2Ibfx9L0g0lPTStrz1mUZc7SXpBcW1vOaXt+6cYgVt02y4eZwUNO7+kB0i6oyTWNK+KzinpGqsqbEnl3FtSy3V1FknPW1JZm8mGjzl8ohOmnyLpcZKeWGRy27THNbEm1y3uDZ6+KTEPdoFZFU3FDKn/qVJ7rrOqxqxBORfsmM7Xuo5xjDWoC1UgIIp+9TdJh/bUCe2HyWkVdJOkja6irKEyiKr+sCQ2lrirpMM7y8wvJTHJBCHVsiXh5eLCXnI8Zdemj3WT1SUk8fvjkr4nCa19Kjqoy/9p6Ys4r5H03+6PDwNMRbSF/v8uSf9MwX5TlTVFvqeRdEgj4/utwc5g15P0xlTH+0u6TVFf5pV7FddGncLl0QzpnKuiKZnhjSX9ZwbmsGViTceg3etCSJZofUx0ML0awcC/m9LV7i/zGoIC2sE6EJ8q+7Skk6bKnC31VzTXnGDgTKh7E8GEmGuwDEC4Zzi/eTpf9gHB+K+S8liDt6cyc+FjmeUikF4gmemInCfyfW70lsb8+cnUtmW1CUsBu4/RNxBcECTuO5A5e1YjLN4+pXt5UoLiMd53ySDjXvP4qCQtrdJkNSUzfG6KVm02eo1unqfTDlDta8REicmsRadO72/dfGFoN9/vNJ5X91Se+79PWkJPkl2XMTP17VF7qR4zbJ4fE+/PlzyA8/wX/U1ENAyA73YG/bQbvD+Kk3REw0CoQ5PM6RyS7pBfyH4zwaNtroqo20N6CuMepsmcrpa0wdOni5iJwaKlAWNqv2eeSfb7dAOugQul/PFRB90nXbtRXKgc+Z4qY69GmHgR5IaI/v2njqk8cyjhGt5H82I7TNqQ/9Fn+aLQsghXwcuSsMJn+xjn/F1soACY4XMkPVAS75gPPDCuwt3AO7plngffB3xpWuSOU/7pnTR6cPfAkwpzGirlr/MHV/B7KmbIi2PD7+iAfCD4Wcm+PGWzGLBgywuCKd0qmWaQWK41UDB1fr6kuxXp0NTRIPoGZSTHho6GVRKdio5GP6CTMPFgZ8cEgi9jaqJdLWZI+UxS1KtF1J101y4SEfiF7yA0rOL2ntMH92hYN5PE+7m1pJN061bxucYYKRnQnsyW8IP6wsSDCFxDe/liXEhH8Ptm8i0Wt4TAVzKIk0n6jCSY5SoJfEvtB2n/I5Iu3qgIgVT0D5ZZDRHvpWS6J+q+e4qWgjDZIiZWsAlC8xhiwGHCLV1HuF4w/49Z48z7myszRLv9WcL3Ux2D4g+s0XQRQCAwxfxM0B7Xrp7GD5Yg5r8hguHyXjdDMEPmeDBmjqMuvKvoh2iG+KN3ERPkY9IfX4Bg0MM9majpCEhoQbzgr8ZJzxFzBp1ozB+dfIimYoYMEKRpHKdoW4AdnZ97NSJadUy7ysGY58VGAPukzg9jAn+IvAnoGUPUFfs3xGB85UjTNdL3e9JzcUCr+Gwy1/C+YRpsegDhr3ph+j3lgY6KmbRPM6RsTIat+1E/Jp/XZ7jCzBH0xviaGKzPjozSEQEDUxCm5X93OGE6Q8OGfpK9h3Rp0gMmQt5RmA7zwqgXfahGBIgh6EAwb/oLZsHtIAK3EAah46X5psWU6eu/6uahz1U035TNkQ4xTrlx4lRGaJhHStxzgUkeLXyM+RkB6UNJ8yA7hEvqTb8eQ8EMY4Ie88w6pUGJQMgPQijNTfnwFJbFfbkTKH+YNHQEO5jQ3wdWJ2CF5Pu1Y4SKKD8/Mpch2EOnSMIy7xZtFkaIZriHGSI1njY5Gb8lCUkN4lrJDJGciCgdIl7umL+hfLifM8NW5BJpF1lniNpN+wAlwLh7kmD66lVrE2n7rpf50AHQKiJwJ9fwkJxqWluZR5zTAdHc2alnrA+XwYa0mhNmHCZZtB/wwIcR9IUkzcV57Vhre3mt9lx+jfRI/gQt9BEbKiBIjCEGDoOR/rDI0gwEBaLOckLLvGwnOOEiQHoPJkKdOcf80qISi9p56/m4R7ACpuI+0xMMrhW5hzBBf6GNCGPbScw5L0p99+wDFQEvfLhf76wUb8jmp4HHdgkG9Pf3dxYOsFuU0KgRTkPwGXoehkiQD4yYZxeh6EuM6TkS2hfzWhBmx5hTuQYzCqtGWOK4jpl+iBkyPxHgUhs3cS3KrR2xBuSrBTCzY12DGBPMERvMpGSKWpsPNByORDjFR3R5+AyNiL/d2S//f84Ml7nOEED+3Jkcf5PMKmM0h2W1DuZDpFquGRO40YrMKstmEqHuvMyxhNbTtzMPk1NuhkI7RhPCNNhH9JEwjbSOQ2HL9D+YYV/dKB9HeWke7KsX15HOeb95QEQrPfdgFFhJakT4dUSlcR/BEOGhZd7Dyd/CJe4N+ZWQjhFCW2ZiNPiWMIGGi4tjyujIGm61a0joMBrMVmOJpS7gPZbRoAmiuSNkLkr4nqkf9VyEiJ783SY+NE7/R7AqrRKLlL3daRk7MDzoncndkk53HRgnvL+8r7+tEzQZVy3ivfMuYqyUx76gu8gTk2jODLmOAEvQDIof7qUNATQ406noRSKHpJoiVZU0pIVgchxjSiRNzgzKcuJ8KmaIFozkiDkY32HuOI+yyyPmzzFta01a5ImZCLNPEOuZwB9b+hiCEeLzQWqFiY1ddoB2gzmtRvic8k4DE/xXwqeWfpnXghm+rpEpjAVT1BhC+iMtghxmrquMeSiZYcOkkj/CIGfpR0Skce/xyVeSp5vqNwOeYI4g+mBJYBcSb3mPOIDoL/iqt3ONKfMHdUGbQEOkPjWiL7J+kr4BwdwYI0NumkiLuZ928z7DpbA7p/Z/rAC4B0J7JpZgzJpTxgvMHTM0GiLtG0vBDPuwGJvPdqbDyoUbDXNprR/yDjB3x/tkzSj+76G+yBxXWmsWaSdWhVxrjWcRvLE04nLYwAwZ5EjRwdmx5TMR4v+DQWKigrC/Ej0V6dLlDQfWBY394sQYbSxnhkORQ5goGDD8tTQCAhNIE1FilMHggbBP9xHaxpi2ka5FmHzyBaD4c/6SpCns630+S/IkGIT1V2Gu4xrMdchcRzpMofgHS8LEAx65f/jdycRE58VnNiVRBpohvr4+oo2YAoeI9/Pe5I8iLf4LJFCWHwwRWlOtjNACmVyD8HGipfCuas9Euq0eD0x1R4pFaGWyZrLNCfwwIeeWnbjPpEx/yc19TLo1iwJpMEnRH2qEoNunCWNeJ5q5NTfACAmuCJ80ZeDHZvKMSTLKZaKkT4bAzDzEeUv75Vk200Daz31YjLXahBhlxZHgDkyxTNSML9qEn3pokxHmSfzN0QaCNJhPhuarKJfn0AxrWi/vewwzjry268h7wnKCJp67WqI+jMFc2MUHz/vEhI2g2wpuom8PBQdGOeWRutQEXHgc+bJUYwMzfEVSbSOj0FSoIJNzaIMwChrQNyDi+WUep2CG+IFoR0QCYsfmRTJhDi1P2Grb0EQJ3Mm1FXwFmAsYwC1TCc9igoh653WhDRGMk1/PfzOZM+hK2i8JP7lwgskUkyEMFCfzVMREg1nqD1005DcSLuVgYrIg4hAzVIvot7zH8HtHWhzmMPQy37gfR6J5Px8n2RFB48fZOT/RFPGLIIBNNR7QNuin5R/jNSfw+UUlGpkB39dfCPAo3yuTEmXlWmiUA6PgHhaEGsXuVH1YYOrFjwuzKonySmEOiwc+HdrGH+dsONAKhGHbPiwfNR8h2kXfMhPqQ6ANPvsSa85bUciE+dfGLAIFY7o2VvP28zzjD98Z1iIE6VyrREikDquI6s7rtZnfCIUIojXCfIzQEMTuNWwigTA5ZOrknWMeXdRsTVlEqyIMMhZKYj7E0rCBGTLJXLpIiXMTTp6HDCOd0Wlb0l+RzZZPp2CGTMC574TOzuQADgy8KYlBgiSMxhLE4KUjIdmXE3mk4YjEyaDto6FgBJ7Dz1hKYfhiCXvPCQ0fBjLVIucoq2Z6LsOtYWYwn6EJAZ92jmuUwZE+m2sL+b34zWD7RyXylGCrPCCA9ExgTO5TSu3gUDPLM4HmhBBAvUOLinv06z4tjzQlY6IfIgCF8Bv5xBGTVt+WYfQXLBx9cwOTUW7NiDzjWNYFwQyNjj7I2ISZtdpCPowNxkgflWXk6egbNaxrGnT+XGvMYaYfYoa1MnOhFs0Fk165XCivw7r8Zm1hbUMP+gQ+7fz9gQ2aMEJ8a06LttG3sSJgGaBPYN0Au5YJnHmefsMfaWtzA/Utx1OUuXbHnBn2SZ1R6bFm0ki/E49MMHSMORHMKMzYU9cbBrchumzqApeQPwIFZjrT3okAvv4W0907W11vFcoKwhoMDC16KKiynstMr5oZLvfF0ZFYJNvySy63xK3lRufHRFJaLraWa//TDC5MgavcZam/NsN3sCR8OwWLDKd2irkhgLaOgGYyAhvWGWKKaZE1wxY6R9zDN7aKxfRHlLj5X/iTeK+rJKIcSx/WKstfpCxMTaUJd5HnnXa9EWBZUp/Zer1r7totHYFcMzQzXB68BGfga1pnIiBiKGhmqvpT7io+GbSV+hNYMDeT7lba62eNwI5GgMCSiPAizLhF+MIirSeJFlK+ZwSMgBEwArNAAFs50XQsQwgGR+gxOxiUEjtmBKKuiDiMtD9IIe9lhN0sGu9KGgEjYASMgBFgMXwwtdqRNWmxBIKAh1qa/FrJPI2wETACRsAIGIFZIACza/3ljWilC6aZp/dvI2AEjIARMAJGwAgYASNgBIyAEZgDAvj62CQ33yJsDvV2HY2AETACRsAILA0B9hHkE0KbCf9nJ3LW52xXWP7SQHBGRsAIGAEjsLMRYAf9cnPksYjwFQ4+/8IaRZMRMAJGwAgYgdkiwDrB+C4Wu4svukSCTV29X+NsX78rbgSMgBEwAiAAI2NHcXbK58O7h6ZPs7A5a99fvmO9maH7kREwAkbACMweAT6eynfC+CwPn8khmAbKl1HUznen2v25j0PixEcjYASMgBEwAnNDYJ/05XM+esvHWvO1gjkzLH/n7UQzNDPMEfFvI2AEjIARmBUCfFA2gl/4MjsfgjxA0r4dY2T/0b6//KO1ZoazeuWurBEwAkbACJQIHCxp/3SRj7ryCZ9FPm55YLe04jBJh3d5HCSJrx+YjIARMAJGwAgYASNgBIyAETACRsAIGAEjYASMgBEwAkbACBgBI2AEjIARODIC/wejlhKgckpTqQAAAABJRU5ErkJggg==)"
      ],
      "metadata": {
        "id": "cswRLP2ooq2e"
      }
    },
    {
      "cell_type": "markdown",
      "source": [
        "estamos usando a forma da aproximação de euler sendo expressa por :"
      ],
      "metadata": {
        "id": "lM-5btJGt-0L"
      }
    },
    {
      "cell_type": "markdown",
      "source": [
        "![Captura de tela 2024-09-02 001254.png](data:image/png;base64,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)"
      ],
      "metadata": {
        "id": "aCMa00IjuNnY"
      }
    },
    {
      "cell_type": "markdown",
      "source": [],
      "metadata": {
        "id": "MpRO4IncuHU5"
      }
    },
    {
      "cell_type": "code",
      "execution_count": 1,
      "metadata": {
        "colab": {
          "base_uri": "https://localhost:8080/"
        },
        "id": "aCLbkCwLm1NE",
        "outputId": "1a31270e-b7b0-4446-d5fd-a9c4325648a4"
      },
      "outputs": [
        {
          "output_type": "stream",
          "name": "stdout",
          "text": [
            "65\n",
            "8247650592082470666723170306785496252186258551345437492922123134388955774976000000000000000\n",
            "1.2124664943492804e-91\n"
          ]
        }
      ],
      "source": [
        "import math\n",
        "entrada=int(input())\n",
        "\n",
        "def euler_prox(entrada):\n",
        "  euler=1\n",
        "  for a in range(1,entrada+1):\n",
        "    euler=+1/math.factorial(a)\n",
        "  return euler\n",
        "\n",
        "print(math.factorial(entrada))\n",
        "print(euler_prox(entrada))\n"
      ]
    },
    {
      "cell_type": "code",
      "source": [
        "def fatorial(entrada):\n",
        "  recursive=1\n",
        "  if(entrada<1):\n",
        "    return 1\n",
        "  else:\n",
        "    while(entrada>0):\n",
        "      recursive=entrada*recursive\n",
        "      entrada=entrada-1\n",
        "  return recursive\n",
        "\n",
        "def aproximate_euler(entrada):\n",
        "  euler=1\n",
        "  for y in range(1,entrada+1):\n",
        "    euler+=1/fatorial(y)\n",
        "  return euler\n",
        "\n",
        "ent=int(input())\n",
        "\n",
        "print(aproximate_euler(ent))\n",
        "print(fatorial(ent))"
      ],
      "metadata": {
        "colab": {
          "base_uri": "https://localhost:8080/"
        },
        "id": "zzWPVnsRo0AM",
        "outputId": "fa3b32ef-423f-4f5f-926b-0642b38a19e2"
      },
      "execution_count": 2,
      "outputs": [
        {
          "output_type": "stream",
          "name": "stdout",
          "text": [
            "54\n",
            "2.7182818284590455\n",
            "230843697339241380472092742683027581083278564571807941132288000000000000\n"
          ]
        }
      ]
    },
    {
      "cell_type": "markdown",
      "source": [
        "Para fazer a tarefa de não calcular o fatorial explicitamente usamos a função gamma para poder calcular os valores relacionados ao fatorial em si\n"
      ],
      "metadata": {
        "id": "CbyV9A81pYiD"
      }
    },
    {
      "cell_type": "markdown",
      "source": [
        "![Captura de tela 2024-09-01 235813.png](data:image/png;base64,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)"
      ],
      "metadata": {
        "id": "7VcdjpehqjDL"
      }
    },
    {
      "cell_type": "markdown",
      "source": [],
      "metadata": {
        "id": "D7YZGOEdq39l"
      }
    },
    {
      "cell_type": "code",
      "source": [
        "import math\n",
        "\n",
        "def factorial_gamma(n):\n",
        "  return math.gamma(n+1)\n",
        "\n",
        "def aprox_euler(n):\n",
        "  euler=1\n",
        "  for y in range(1, n+1):\n",
        "    euler+=1/factorial_gamma(y)\n",
        "  return euler\n",
        "\n",
        "entrada=int(input())\n",
        "print(factorial_gamma(entrada))\n",
        "print(aprox_euler(entrada))\n"
      ],
      "metadata": {
        "colab": {
          "base_uri": "https://localhost:8080/"
        },
        "id": "42Dw8SOurS9B",
        "outputId": "f7059cba-eaf3-458d-f1dd-b14e9d3c6ab1"
      },
      "execution_count": 4,
      "outputs": [
        {
          "output_type": "stream",
          "name": "stdout",
          "text": [
            "65\n",
            "8.24765059208247e+90\n",
            "2.7182818284590455\n"
          ]
        }
      ]
    },
    {
      "cell_type": "markdown",
      "source": [
        "# calculo da diferença da precisão de euler com o valor do fatorial"
      ],
      "metadata": {
        "id": "aXPSdJX5HQvg"
      }
    },
    {
      "cell_type": "code",
      "source": [
        "#difernce of precision of valure\n",
        "import math\n",
        "\n",
        "def factorial_gamma(n):\n",
        "  return math.gamma(n+1)\n",
        "\n",
        "def aprox_euler(n):\n",
        "  euler=1\n",
        "  for y in range(1, n+1):\n",
        "    euler+=1/factorial_gamma(y)\n",
        "  return euler\n",
        "\n",
        "def fatorial(entrada):\n",
        "  recursive=1\n",
        "  if(entrada<1):\n",
        "    return 1\n",
        "  else:\n",
        "    while(entrada>0):\n",
        "      recursive=entrada*recursive\n",
        "      entrada=entrada-1\n",
        "  return recursive\n",
        "\n",
        "def aproximate_euler(entrada):\n",
        "  euler=1\n",
        "  for y in range(1,entrada+1):\n",
        "    euler+=1/fatorial(y)\n",
        "  return euler\n",
        "\n",
        "def comparando_metodos(entrada):\n",
        "   exatidao_fatorial=fatorial(entrada)\n",
        "   aprox_euler_01=aproximate_euler(entrada)\n",
        "   aprox_euler_formula=aprox_euler(entrada)\n",
        "   diff_aprox = abs(exatidao_fatorial - aprox_euler_01)\n",
        "   diff_formula = abs(exatidao_fatorial - aprox_euler_formula)\n",
        "\n",
        "   #valores de erro relativo\n",
        "\n",
        "   relativo_erro_aprox = (diff_aprox / exatidao_fatorial) * 100\n",
        "   relativo_erro_formula = (diff_formula / exatidao_fatorial) * 100\n",
        "\n",
        "   print(f\"Para n = {entrada}:\")\n",
        "   print(f\"Fatorial exato: {exatidao_fatorial}\")\n",
        "   print(f\"Aproximação de Euler (somatório): {aprox_euler_01}\")\n",
        "   print(f\"Aproximação de Euler (fórmula): {aprox_euler_formula}\")\n",
        "   print(f\"Diferença (somatório): {diff_aprox}\")\n",
        "   print(f\"Diferença (fórmula): {diff_formula}\")\n",
        "   print(f\"Erro relativo (somatório): {relativo_erro_aprox:.6f}%\")\n",
        "   print(f\"Erro relativo (fórmula): {relativo_erro_formula:.6f}%\")\n",
        "\n",
        "\n",
        "print(\"digite o valor para o fatorial\")\n",
        "entrada=int(input())\n",
        "comparando_metodos(entrada)\n",
        "print()\n",
        "\n"
      ],
      "metadata": {
        "colab": {
          "base_uri": "https://localhost:8080/"
        },
        "id": "7RHYVAOnh4wc",
        "outputId": "f753e75c-af02-429e-f752-09fab3fa20f9"
      },
      "execution_count": 12,
      "outputs": [
        {
          "output_type": "stream",
          "name": "stdout",
          "text": [
            "digite o valor para o fatorial\n",
            "56\n",
            "Para n = 56:\n",
            "Fatorial exato: 710998587804863451854045647463724949736497978881168458687447040000000000000\n",
            "Aproximação de Euler (somatório): 2.7182818284590455\n",
            "Aproximação de Euler (fórmula): 2.7182818284590455\n",
            "Diferença (somatório): 7.109985878048635e+74\n",
            "Diferença (fórmula): 7.109985878048635e+74\n",
            "Erro relativo (somatório): 100.000000%\n",
            "Erro relativo (fórmula): 100.000000%\n",
            "\n"
          ]
        }
      ]
    }
  ]
}